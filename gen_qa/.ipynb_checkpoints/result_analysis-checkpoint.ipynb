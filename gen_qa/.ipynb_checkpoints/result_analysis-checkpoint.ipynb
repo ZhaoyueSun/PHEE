{
 "cells": [
  {
   "cell_type": "code",
   "execution_count": 1,
   "id": "996cbdc1-7b57-4c80-9e35-85be9de63c0c",
   "metadata": {},
   "outputs": [],
   "source": [
    "# use this demo to compare eeqa result & gen_qa attention analysis"
   ]
  },
  {
   "cell_type": "code",
   "execution_count": 2,
   "id": "4e07e436-b52c-478e-868f-467e4b6afaf4",
   "metadata": {},
   "outputs": [],
   "source": [
    "import os\n",
    "os.environ[\"CUDA_VISIBLE_DEVICES\"] = \"1\"\n",
    "os.chdir(\"/home/zha0yuewarwick/projects/PhEE/gen_qa\")\n",
    "from transformers import AutoTokenizer, AutoModelForSeq2SeqLM, utils\n",
    "from bertviz import head_view\n",
    "import argparse\n",
    "import json\n",
    "import random"
   ]
  },
  {
   "cell_type": "code",
   "execution_count": 3,
   "id": "806217e6-c339-4b87-9829-e0bfcfae1a52",
   "metadata": {},
   "outputs": [],
   "source": [
    "args = argparse.Namespace()\n",
    "args.num_beams = 3\n",
    "args.n_best_size = 10\n",
    "args.test_file = \"../data/phee_genqa/argument/test_2.json\"\n",
    "args.model_name_or_path = \"/home/zha0yuewarwick/projects/PhEE/gen_qa/model/SciFive-base-PMC/arg2\"\n",
    "args.max_answer_length = 30"
   ]
  },
  {
   "cell_type": "code",
   "execution_count": 4,
   "id": "991784e3-ce58-421a-a176-858c44f659cd",
   "metadata": {},
   "outputs": [],
   "source": [
    "ARG_TEMPLATES = {\n",
    "        \"Subject\": [\"Subject\", \n",
    "        \"Subject in [EVENT]\",\n",
    "        \"Subject in [TRIGGER]\",\n",
    "        \"Who is the subject?\",\n",
    "        \"Who is the subject in [EVENT]?\",\n",
    "        \"Who is the subject in [TRIGGER]?\",\n",
    "        \"Who is treated?\",\n",
    "        \"Who is treated in [EVENT]?\",\n",
    "        \"Who is treated in [TRIGGER]?\"\n",
    "        ], \n",
    "        \"Treatment\": [\"Treatment\",\n",
    "        \"Treatment in [EVENT]\",\n",
    "        \"Treatment in [TRIGGER]\",\n",
    "        \"What is the treatment?\",\n",
    "        \"What is the treatment in [EVENT]?\",\n",
    "        \"What is the treatment in [TRIGGER]?\",\n",
    "        \"What treatment is given to the patient?\",\n",
    "        \"What treatment is given to the patient in [EVENT]?\",\n",
    "        \"What treatment is given to the patient in [TRIGGER]?\",\n",
    "        ],\n",
    "        \"Effect\":[\"Effect\",\n",
    "        \"Effect in [EVENT]\",\n",
    "        \"Effect in [TRIGGER]\",\n",
    "        \"What is the effect?\",\n",
    "        \"What is the effect in [EVENT]?\",\n",
    "        \"What is the effect in [TRIGGER]?\",\n",
    "        \"What effect does the treatment cause?\",\n",
    "        \"What effect does the treatment cause in [EVENT]?\",\n",
    "        \"What effect does the treatment cause in [TRIGGER]?\"\n",
    "        ]\n",
    "    }"
   ]
  },
  {
   "cell_type": "code",
   "execution_count": 5,
   "id": "29662bb9-3f09-4df3-b102-dfa2294a05f8",
   "metadata": {},
   "outputs": [],
   "source": [
    "# read cases from EEQA prediction result\n",
    "# compared EEQA question template: arg_query + in trigger(5)\n",
    "eeqa_result_file = \"/home/zha0yuewarwick/projects/PhEE/eeqa/model/biobert_rst/argument/template5/pred_outputs.json\"\n",
    "eeqa_results = []\n",
    "with open(eeqa_result_file, \"r\") as f:\n",
    "    for line in f.readlines():\n",
    "        eeqa_results.append(json.loads(line))"
   ]
  },
  {
   "cell_type": "code",
   "execution_count": 6,
   "id": "eed839fb-5278-42a2-9a08-bf9991dcabe4",
   "metadata": {},
   "outputs": [],
   "source": [
    "# load generative QA model\n",
    "model = AutoModelForSeq2SeqLM.from_pretrained(args.model_name_or_path, output_attentions=True)\n",
    "tokenizer = AutoTokenizer.from_pretrained(args.model_name_or_path)"
   ]
  },
  {
   "cell_type": "markdown",
   "id": "de8d0837-f5c8-48e8-b39b-f3757ad2a1ef",
   "metadata": {},
   "source": [
    "### Start Demo"
   ]
  },
  {
   "cell_type": "code",
   "execution_count": 7,
   "id": "653dee1c-ae0b-4e00-955e-759d8f01972b",
   "metadata": {},
   "outputs": [
    {
     "data": {
      "text/plain": [
       "140"
      ]
     },
     "execution_count": 7,
     "metadata": {},
     "output_type": "execute_result"
    }
   ],
   "source": [
    "# sample a case\n",
    "TEST_ROLE = \"Treatment\"\n",
    "random_id = random.randint(0, len(eeqa_results))\n",
    "select_id = 140\n",
    "select_id"
   ]
  },
  {
   "cell_type": "code",
   "execution_count": 8,
   "id": "6c8bc2a1-d29d-49ad-816a-16082b40c61d",
   "metadata": {},
   "outputs": [],
   "source": [
    "def get_sample_result(select_id, test_role):\n",
    "    eeqa_rst = eeqa_results[select_id]\n",
    "    sent_tokens = eeqa_rst['sentence']\n",
    "    context = \" \".join(sent_tokens)\n",
    "    event_type = eeqa_rst['event'][0][0][-1]\n",
    "\n",
    "    trig_st = eeqa_rst['event'][0][0][0]\n",
    "    trigger_text = sent_tokens[eeqa_rst['event'][0][0][0]]\n",
    "    \n",
    "    # get gold span\n",
    "    gold_span = []\n",
    "    for argument in eeqa_rst['event'][0][1:]: # assume a sentence only includes one event\n",
    "        if argument[-1] == test_role:\n",
    "            gold_span.append(\" \".join(sent_tokens[argument[0]: argument[1]+1]))\n",
    "    gold_span = \"; \".join(gold_span)\n",
    "\n",
    "    # get eeqa predicted span\n",
    "    eeqa_span = []\n",
    "    for argument in eeqa_rst['arg_pred']:\n",
    "        if argument[-1] == test_role:\n",
    "            eeqa_span.append(\" \".join(sent_tokens[argument[0]: argument[1]+1]))\n",
    "    eeqa_span = \"; \".join(eeqa_span)\n",
    "    \n",
    "    # get gen_qa input and output\n",
    "    question = ARG_TEMPLATES[test_role][0] # TODO: modify this to match eeqa method, but we currently only train the argument type\n",
    "    question = question.replace(\"[EVENT]\", \" \".join(event_type.split('_')).lower())\n",
    "    question = question.replace(\"[TRIGGER]\", trigger_text)\n",
    "    \n",
    "    input_text = \" \".join([\"question:\", question.lstrip(), \"context:\", context.lstrip()])\n",
    "    \n",
    "    # tokenize the input\n",
    "    encoder_input_ids = tokenizer(input_text, return_tensors=\"pt\", add_special_tokens=True).input_ids\n",
    "    # get model outputs\n",
    "    decoder_input_ids = model.generate(encoder_input_ids, num_beams=args.num_beams, top_p=args.n_best_size)\n",
    "\n",
    "    encoder_text = tokenizer.convert_ids_to_tokens(encoder_input_ids[0])\n",
    "    decoder_text = tokenizer.convert_ids_to_tokens(decoder_input_ids[0])\n",
    "    gen_qa_span = tokenizer.decode(decoder_input_ids[0], skip_special_tokens=True)\n",
    "    \n",
    "    return {\n",
    "        'context': context,\n",
    "        'event_type': event_type,\n",
    "        'gold_span': gold_span,\n",
    "        'eeqa_span': eeqa_span,\n",
    "        'gen_qa_span': gen_qa_span,\n",
    "        'encoder_text': encoder_text,\n",
    "        'decoder_text': decoder_text,\n",
    "        'encoder_input_ids': encoder_input_ids,\n",
    "        'decoder_input_ids': decoder_input_ids\n",
    "    }"
   ]
  },
  {
   "cell_type": "code",
   "execution_count": 9,
   "id": "075e96d6-f77c-4444-8f15-9e4ec9ab5420",
   "metadata": {},
   "outputs": [],
   "source": [
    "sample_rst = get_sample_result(select_id, TEST_ROLE)"
   ]
  },
  {
   "cell_type": "markdown",
   "id": "37509291-5d29-48fb-8752-7c32129bd810",
   "metadata": {},
   "source": [
    "### Output Comparing Results"
   ]
  },
  {
   "cell_type": "code",
   "execution_count": 10,
   "id": "62ca9201-c67d-4f7c-be42-96bd31640dc6",
   "metadata": {},
   "outputs": [
    {
     "name": "stdout",
     "output_type": "stream",
     "text": [
      "CONTEXT: 1 . \n",
      " Artelinic acid ( AL ) , a water - soluble artemisinin analogue for treatment of multidrug resistant malaria , is metabolized to the active metabolite dihydroqinghaosu ( DQHS ) solely by   CYP3A4/5 .\n",
      "EVENT TYPE: Potential_therapeutic_event, QUERY_ROLE:Treatment\n",
      "GOLD SPAN: Artelinic acid ( AL ) , a water - soluble artemisinin analogue; metabolized to the active metabolite dihydroqinghaosu ( DQHS ) solely by   CYP3A4/5\n",
      "EEQA PRED: Artelinic acid ( AL )\n",
      "GenQA PRED: Artelinic acid ( AL ), a water - soluble art\n"
     ]
    }
   ],
   "source": [
    "# compare outputs\n",
    "print(\"CONTEXT: %s\"%sample_rst[\"context\"])\n",
    "print(\"EVENT TYPE: %s, QUERY_ROLE:%s\"%(sample_rst[\"event_type\"], TEST_ROLE))\n",
    "print(\"GOLD SPAN: %s\"%sample_rst[\"gold_span\"])\n",
    "print(\"EEQA PRED: %s\"%sample_rst[\"eeqa_span\"])\n",
    "print(\"GenQA PRED: %s\"%sample_rst[\"gen_qa_span\"])"
   ]
  },
  {
   "cell_type": "markdown",
   "id": "28601f3b-be40-43eb-9841-e084be6dc0e5",
   "metadata": {},
   "source": [
    "### Visualize Attentions"
   ]
  },
  {
   "cell_type": "code",
   "execution_count": 11,
   "id": "e4b8dff1-1726-4d6a-9a25-06b6b352aa32",
   "metadata": {},
   "outputs": [],
   "source": [
    "outputs = model(input_ids=sample_rst[\"encoder_input_ids\"], decoder_input_ids=sample_rst[\"decoder_input_ids\"])"
   ]
  },
  {
   "cell_type": "code",
   "execution_count": null,
   "id": "28f2cf29-ed23-4161-835f-20aa2224d71b",
   "metadata": {},
   "outputs": [
    {
     "data": {
      "text/html": [
       "<script src=\"https://cdnjs.cloudflare.com/ajax/libs/require.js/2.3.6/require.min.js\"></script>"
      ],
      "text/plain": [
       "<IPython.core.display.HTML object>"
      ]
     },
     "metadata": {},
     "output_type": "display_data"
    },
    {
     "data": {
      "text/html": [
       "      \n",
       "        <div id='bertviz-4d67d145176e4597860491cc4fd691be'>\n",
       "            <span style=\"user-select:none\">\n",
       "                Layer: <select id=\"layer\"></select>\n",
       "                Attention: <select id=\"filter\"><option value=\"0\">Encoder</option>\n",
       "<option value=\"1\">Decoder</option>\n",
       "<option value=\"2\">Cross</option></select>\n",
       "            </span>\n",
       "            <div id='vis'></div>\n",
       "        </div>\n",
       "    "
      ],
      "text/plain": [
       "<IPython.core.display.HTML object>"
      ]
     },
     "metadata": {},
     "output_type": "display_data"
    }
   ],
   "source": [
    "head_view(\n",
    "    encoder_attention=outputs.encoder_attentions,\n",
    "    decoder_attention=outputs.decoder_attentions,\n",
    "    cross_attention=outputs.cross_attentions,\n",
    "    encoder_tokens= sample_rst[\"encoder_text\"],\n",
    "    decoder_tokens = sample_rst[\"decoder_text\"]\n",
    ")"
   ]
  },
  {
   "cell_type": "markdown",
   "id": "3a202110-7d2d-4135-bcd4-2df4de74d1cf",
   "metadata": {},
   "source": [
    "### Batch Analysis"
   ]
  },
  {
   "cell_type": "code",
   "execution_count": null,
   "id": "1bdea973-fc11-4543-850e-062520df1b55",
   "metadata": {},
   "outputs": [],
   "source": [
    "# only sample not exact match cases\n",
    "TEST_ROLE = \"Treatment\"\n",
    "SAMPLE_NUM = 5\n",
    "case_id = 0\n",
    "print(TEST_ROLE)\n",
    "while case_id < SAMPLE_NUM:\n",
    "    random_id = random.randint(0, len(eeqa_results))\n",
    "    select_id = random_id\n",
    "\n",
    "    sample_rst = get_sample_result(select_id, TEST_ROLE)\n",
    "    if sample_rst[\"gold_span\"] == sample_rst[\"gen_qa_span\"]:\n",
    "        continue\n",
    "    \n",
    "    print(\"Sample case %d:\"%select_id)\n",
    "    print(\"CONTEXT: %s\"%sample_rst[\"context\"])\n",
    "    # print(\"EVENT TYPE: %s, QUERY_ROLE:%s\"%(sample_rst[\"event_type\"], TEST_ROLE))\n",
    "    print(\"GOLD SPAN: %s\"%sample_rst[\"gold_span\"])\n",
    "    print(\"EEQA PRED: %s\"%sample_rst[\"eeqa_span\"])\n",
    "    print(\"GenQA PRED: %s\"%sample_rst[\"gen_qa_span\"])\n",
    "    print(\"\")\n",
    "    case_id += 1"
   ]
  },
  {
   "cell_type": "code",
   "execution_count": null,
   "id": "63453060-0be8-44e6-ab5a-a2b87d262045",
   "metadata": {},
   "outputs": [],
   "source": []
  }
 ],
 "metadata": {
  "kernelspec": {
   "display_name": "Python 3 (ipykernel)",
   "language": "python",
   "name": "python3"
  },
  "language_info": {
   "codemirror_mode": {
    "name": "ipython",
    "version": 3
   },
   "file_extension": ".py",
   "mimetype": "text/x-python",
   "name": "python",
   "nbconvert_exporter": "python",
   "pygments_lexer": "ipython3",
   "version": "3.7.11"
  }
 },
 "nbformat": 4,
 "nbformat_minor": 5
}
