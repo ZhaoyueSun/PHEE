{
 "cells": [
  {
   "cell_type": "code",
   "execution_count": 1,
   "id": "996cbdc1-7b57-4c80-9e35-85be9de63c0c",
   "metadata": {},
   "outputs": [],
   "source": [
    "# use this demo to compare eeqa VS generative QA result"
   ]
  },
  {
   "cell_type": "code",
   "execution_count": 2,
   "id": "4e07e436-b52c-478e-868f-467e4b6afaf4",
   "metadata": {},
   "outputs": [],
   "source": [
    "import os\n",
    "os.environ[\"CUDA_VISIBLE_DEVICES\"] = \"1\"\n",
    "os.chdir(\"/home/zha0yuewarwick/projects/PhEE/gen_qa\")\n",
    "\n",
    "from transformers import AutoTokenizer, AutoModelForSeq2SeqLM, utils\n",
    "from bertviz import head_view\n",
    "import argparse\n",
    "import json\n",
    "import random\n",
    "import spacy\n",
    "from spacy.tokens import Span\n",
    "import medspacy\n",
    "from medspacy.ner import TargetRule\n",
    "from medspacy.visualization import visualize_ent"
   ]
  },
  {
   "cell_type": "code",
   "execution_count": 3,
   "id": "806217e6-c339-4b87-9829-e0bfcfae1a52",
   "metadata": {},
   "outputs": [],
   "source": [
    "args = argparse.Namespace()\n",
    "args.question_type=8\n",
    "args.num_beams = 3\n",
    "args.n_best_size = 20\n",
    "args.test_file = \"../data/phee_genqa/argument/dev_%d.json\"%args.question_type\n",
    "args.model_name_or_path = \"/home/zha0yuewarwick/projects/PhEE/gen_qa/model/SciFive-base-PMC/arg%d\"%args.question_type\n",
    "args.max_answer_length = 150\n"
   ]
  },
  {
   "cell_type": "code",
   "execution_count": 4,
   "id": "991784e3-ce58-421a-a176-858c44f659cd",
   "metadata": {},
   "outputs": [],
   "source": [
    "ARG_TEMPLATES = {\n",
    "        \"Subject\": [\"Subject\", \n",
    "        \"Subject in [EVENT]\",\n",
    "        \"Subject in [TRIGGER]\",\n",
    "        \"Who is the subject?\",\n",
    "        \"Who is the subject in [EVENT]?\",\n",
    "        \"Who is the subject in [TRIGGER]?\",\n",
    "        \"Who is treated?\",\n",
    "        \"Who is treated in [EVENT]?\",\n",
    "        \"Who is treated in [TRIGGER]?\"\n",
    "        ], \n",
    "        \"Treatment\": [\"Treatment\",\n",
    "        \"Treatment in [EVENT]\",\n",
    "        \"Treatment in [TRIGGER]\",\n",
    "        \"What is the treatment?\",\n",
    "        \"What is the treatment in [EVENT]?\",\n",
    "        \"What is the treatment in [TRIGGER]?\",\n",
    "        \"What treatment is given to the patient?\",\n",
    "        \"What treatment is given to the patient in [EVENT]?\",\n",
    "        \"What treatment is given to the patient in [TRIGGER]?\",\n",
    "        ],\n",
    "        \"Effect\":[\"Effect\",\n",
    "        \"Effect in [EVENT]\",\n",
    "        \"Effect in [TRIGGER]\",\n",
    "        \"What is the effect?\",\n",
    "        \"What is the effect in [EVENT]?\",\n",
    "        \"What is the effect in [TRIGGER]?\",\n",
    "        \"What effect does the treatment cause?\",\n",
    "        \"What effect does the treatment cause in [EVENT]?\",\n",
    "        \"What effect does the treatment cause in [TRIGGER]?\"\n",
    "        ]\n",
    "    }"
   ]
  },
  {
   "cell_type": "code",
   "execution_count": 5,
   "id": "29662bb9-3f09-4df3-b102-dfa2294a05f8",
   "metadata": {},
   "outputs": [],
   "source": [
    "# read cases from EEQA prediction result\n",
    "# compared EEQA question template: arg_query + in trigger(5)\n",
    "eeqa_result_file = \"/home/zha0yuewarwick/projects/PhEE/eeqa/model/biobert_rst/argument/template5/no_overlap/pred_outputs.json\"\n",
    "eeqa_results = []\n",
    "with open(eeqa_result_file, \"r\") as f:\n",
    "    for line in f.readlines():\n",
    "        eeqa_results.append(json.loads(line))"
   ]
  },
  {
   "cell_type": "code",
   "execution_count": 6,
   "id": "eed839fb-5278-42a2-9a08-bf9991dcabe4",
   "metadata": {},
   "outputs": [],
   "source": [
    "# load generative QA model\n",
    "model = AutoModelForSeq2SeqLM.from_pretrained(args.model_name_or_path, output_attentions=True)\n",
    "tokenizer = AutoTokenizer.from_pretrained(args.model_name_or_path)"
   ]
  },
  {
   "cell_type": "code",
   "execution_count": 7,
   "id": "6c8bc2a1-d29d-49ad-816a-16082b40c61d",
   "metadata": {},
   "outputs": [],
   "source": [
    "def get_sample_result(select_id, test_role):\n",
    "    eeqa_rst = eeqa_results[select_id]\n",
    "    sent_tokens = eeqa_rst['sentence']\n",
    "    context = \" \".join(sent_tokens)\n",
    "    event_type = eeqa_rst['event'][0][0][-1]\n",
    "\n",
    "    trig_st = eeqa_rst['event'][0][0][0]\n",
    "    trigger_text = sent_tokens[eeqa_rst['event'][0][0][0]]\n",
    "    \n",
    "    # get gold span\n",
    "    gold_span = []\n",
    "    for argument in eeqa_rst['event'][0][1:]: # assume a sentence only includes one event\n",
    "        if argument[-1] == test_role:\n",
    "            gold_span.append(\" \".join(sent_tokens[argument[0]: argument[1]+1]))\n",
    "    gold_span = \"; \".join(gold_span)\n",
    "\n",
    "    # get eeqa predicted span\n",
    "    eeqa_span = []\n",
    "    for argument in eeqa_rst['arg_pred']:\n",
    "        if argument[-1] == test_role:\n",
    "            eeqa_span.append(\" \".join(sent_tokens[argument[0]: argument[1]+1]))\n",
    "    eeqa_span = \"; \".join(eeqa_span)\n",
    "    \n",
    "    # get gen_qa input and output\n",
    "    question = ARG_TEMPLATES[test_role][args.question_type] # TODO: modify this to match eeqa method, but we currently only train the argument type\n",
    "    question = question.replace(\"[EVENT]\", \" \".join(event_type.split('_')).lower())\n",
    "    question = question.replace(\"[TRIGGER]\", trigger_text)\n",
    "    \n",
    "    input_text = \" \".join([\"question:\", question.lstrip(), \"context:\", context.lstrip()])\n",
    "    \n",
    "    # tokenize the input\n",
    "    encoder_input_ids = tokenizer(input_text, return_tensors=\"pt\", add_special_tokens=True).input_ids\n",
    "    # get model outputs\n",
    "    decoder_input_ids = model.generate(encoder_input_ids, num_beams=args.num_beams, top_p=args.n_best_size, max_length=args.max_answer_length)\n",
    "\n",
    "    encoder_text = tokenizer.convert_ids_to_tokens(encoder_input_ids[0])\n",
    "    decoder_text = tokenizer.convert_ids_to_tokens(decoder_input_ids[0])\n",
    "    gen_qa_span = tokenizer.decode(decoder_input_ids[0], skip_special_tokens=True)\n",
    "    \n",
    "    return {\n",
    "        'context': context,\n",
    "        'event_type': event_type,\n",
    "        'gold_span': gold_span,\n",
    "        'eeqa_span': eeqa_span,\n",
    "        'gen_qa_span': gen_qa_span,\n",
    "        'encoder_text': encoder_text,\n",
    "        'decoder_text': decoder_text,\n",
    "        'encoder_input_ids': encoder_input_ids,\n",
    "        'decoder_input_ids': decoder_input_ids\n",
    "    }"
   ]
  },
  {
   "cell_type": "code",
   "execution_count": 8,
   "id": "473468b6-c2e3-47f7-a76b-c22bbfe76c59",
   "metadata": {},
   "outputs": [
    {
     "name": "stdout",
     "output_type": "stream",
     "text": [
      "{'context': \"Here we present the case of a woman who received high doses of methylprednisolone ( 1 g iv daily ) for active Graves ' ophthalmopathy , and developed severe hypertension followed by myocardial infarction on the fifth day of treatment .\", 'event_type': 'Adverse_event', 'gold_span': 'high doses of methylprednisolone ( 1 g iv daily )', 'eeqa_span': 'high doses of methylprednisolone ( 1 g iv daily )', 'gen_qa_span': 'high doses of methylprednisolone ( 1 g iv daily )', 'encoder_text': ['▁question', ':', '▁What', '▁treatment', '▁is', '▁given', '▁to', '▁the', '▁patient', '▁in', '▁received', '?', '▁context', ':', '▁Here', '▁we', '▁present', '▁the', '▁case', '▁of', '▁', 'a', '▁woman', '▁who', '▁received', '▁high', '▁dose', 's', '▁of', '▁', 'methyl', 'pre', 'd', 'n', 'i', 'sol', 'one', '▁(', '▁1', '▁', 'g', '▁', 'i', 'v', '▁daily', '▁', ')', '▁for', '▁active', '▁Grav', 'e', 's', '▁', \"'\", '▁', 'o', 'phthal', 'm', 'opathy', '▁', ',', '▁and', '▁developed', '▁severe', '▁hyper', 'tension', '▁followed', '▁by', '▁my', 'o', 'cardi', 'al', '▁in', 'far', 'ction', '▁on', '▁the', '▁fifth', '▁day', '▁of', '▁treatment', '▁', '.', '</s>'], 'decoder_text': ['<pad>', '▁high', '▁dose', 's', '▁of', '▁', 'methyl', 'pre', 'd', 'n', 'i', 'sol', 'one', '▁(', '▁1', '▁', 'g', '▁', 'i', 'v', '▁daily', '▁', ')', '</s>'], 'encoder_input_ids': tensor([[  822,    10,   363,  1058,    19,   787,    12,     8,  1868,    16,\n",
      "          1204,    58,  2625,    10,   947,    62,   915,     8,   495,    13,\n",
      "             3,     9,  2335,   113,  1204,   306,  6742,     7,    13,     3,\n",
      "         22758,  2026,    26,    29,    23,  4099,   782,    41,   209,     3,\n",
      "           122,     3,    23,   208,  1444,     3,    61,    21,  1676, 15199,\n",
      "            15,     7,     3,    31,     3,    32, 28197,    51, 23599,     3,\n",
      "             6,    11,  1597,  5274,  6676, 13177,  2348,    57,    82,    32,\n",
      "         16464,   138,    16,  5544,  4985,    30,     8,  8486,   239,    13,\n",
      "          1058,     3,     5,     1]]), 'decoder_input_ids': tensor([[    0,   306,  6742,     7,    13,     3, 22758,  2026,    26,    29,\n",
      "            23,  4099,   782,    41,   209,     3,   122,     3,    23,   208,\n",
      "          1444,     3,    61,     1]])}\n",
      "84\n",
      "24\n"
     ]
    }
   ],
   "source": [
    "sample_rst = get_sample_result(718, \"Treatment\")\n",
    "print(sample_rst)\n",
    "print(len(sample_rst[\"encoder_text\"]))\n",
    "print(len(sample_rst[\"decoder_text\"]))"
   ]
  },
  {
   "cell_type": "markdown",
   "id": "de8d0837-f5c8-48e8-b39b-f3757ad2a1ef",
   "metadata": {},
   "source": [
    "### Start Demo"
   ]
  },
  {
   "cell_type": "code",
   "execution_count": 19,
   "id": "075e96d6-f77c-4444-8f15-9e4ec9ab5420",
   "metadata": {},
   "outputs": [
    {
     "name": "stdout",
     "output_type": "stream",
     "text": [
      "random selected case: 774\n",
      "event type: Adverse_event\n",
      "GOLD_SPAN\n",
      "Subject: \n",
      "Treatment: Dipyrone , also known as metamizole\n",
      "Effect: agranulocytosis\n"
     ]
    },
    {
     "data": {
      "text/html": [
       "<span class=\"tex2jax_ignore\"><div class=\"entities\" style=\"line-height: 2.5; direction: ltr\">\n",
       "<mark class=\"entity\" style=\"background: #1f77b4; padding: 0.45em 0.6em; margin: 0 0.25em; line-height: 1; border-radius: 0.35em;\">\n",
       "    Dipyrone , also known as metamizole\n",
       "    <span style=\"font-size: 0.8em; font-weight: bold; line-height: 1; border-radius: 0.35em; vertical-align: middle; margin-left: 0.5rem\">TREATMENT</span>\n",
       "</mark>\n",
       " , is an analgesic and antipyretic drug that was banned by the United States Food and Drug Administration because of its association with \n",
       "<mark class=\"entity\" style=\"background: #ff7f0e; padding: 0.45em 0.6em; margin: 0 0.25em; line-height: 1; border-radius: 0.35em;\">\n",
       "    agranulocytosis\n",
       "    <span style=\"font-size: 0.8em; font-weight: bold; line-height: 1; border-radius: 0.35em; vertical-align: middle; margin-left: 0.5rem\">EFFECT</span>\n",
       "</mark>\n",
       " .</div></span>"
      ],
      "text/plain": [
       "<IPython.core.display.HTML object>"
      ]
     },
     "metadata": {},
     "output_type": "display_data"
    },
    {
     "name": "stdout",
     "output_type": "stream",
     "text": [
      "EEQA_SPAN\n",
      "Subject: \n",
      "Treatment: agranulocytosis\n",
      "Effect: agranulocytosis\n"
     ]
    },
    {
     "data": {
      "text/html": [
       "<span class=\"tex2jax_ignore\"><div class=\"entities\" style=\"line-height: 2.5; direction: ltr\">Dipyrone , also known as metamizole , is an analgesic and antipyretic drug that was banned by the United States Food and Drug Administration because of its association with \n",
       "<mark class=\"entity\" style=\"background: #1f77b4; padding: 0.45em 0.6em; margin: 0 0.25em; line-height: 1; border-radius: 0.35em;\">\n",
       "    agranulocytosis\n",
       "    <span style=\"font-size: 0.8em; font-weight: bold; line-height: 1; border-radius: 0.35em; vertical-align: middle; margin-left: 0.5rem\">TREATMENT</span>\n",
       "</mark>\n",
       " .</div></span>"
      ],
      "text/plain": [
       "<IPython.core.display.HTML object>"
      ]
     },
     "metadata": {},
     "output_type": "display_data"
    },
    {
     "name": "stdout",
     "output_type": "stream",
     "text": [
      "GEN_QA_SPAN\n",
      "Subject: \n",
      "Treatment: Dipyrone, also known as metamizole, is an analgesic and antipyretic drug\n",
      "Effect: agranulocytosis\n"
     ]
    },
    {
     "data": {
      "text/html": [
       "<span class=\"tex2jax_ignore\"><div class=\"entities\" style=\"line-height: 2.5; direction: ltr\">\n",
       "<mark class=\"entity\" style=\"background: #1f77b4; padding: 0.45em 0.6em; margin: 0 0.25em; line-height: 1; border-radius: 0.35em;\">\n",
       "    Dipyrone , also known as metamizole , is an analgesic and antipyretic drug\n",
       "    <span style=\"font-size: 0.8em; font-weight: bold; line-height: 1; border-radius: 0.35em; vertical-align: middle; margin-left: 0.5rem\">TREATMENT</span>\n",
       "</mark>\n",
       " that was banned by the United States Food and Drug Administration because of its association with \n",
       "<mark class=\"entity\" style=\"background: #ff7f0e; padding: 0.45em 0.6em; margin: 0 0.25em; line-height: 1; border-radius: 0.35em;\">\n",
       "    agranulocytosis\n",
       "    <span style=\"font-size: 0.8em; font-weight: bold; line-height: 1; border-radius: 0.35em; vertical-align: middle; margin-left: 0.5rem\">EFFECT</span>\n",
       "</mark>\n",
       " .</div></span>"
      ],
      "text/plain": [
       "<IPython.core.display.HTML object>"
      ]
     },
     "metadata": {},
     "output_type": "display_data"
    }
   ],
   "source": [
    "import warnings\n",
    "\n",
    "# sample a case\n",
    "random_id = random.randint(0, len(eeqa_results))\n",
    "select_id = random_id\n",
    "print(\"random selected case: %d\"%select_id)\n",
    "\n",
    "\n",
    "ROLES = [\"Subject\", \"Treatment\", \"Effect\"]\n",
    "rst = {}\n",
    "for role in ROLES:\n",
    "    sample_rst = get_sample_result(select_id, role)\n",
    "    rst[role] = sample_rst\n",
    "\n",
    "context = rst[\"Subject\"][\"context\"]\n",
    "print(\"event type: %s\"%rst[\"Subject\"][\"event_type\"])\n",
    "with warnings.catch_warnings(record=True) as w:\n",
    "    warnings.simplefilter(\"ignore\")\n",
    "    for task in [\"gold_span\", \"eeqa_span\", \"gen_qa_span\"]:\n",
    "        nlp = medspacy.load()\n",
    "        # print(\"\\n\")\n",
    "        print(task.upper())\n",
    "        # Add rules for target concept extraction\n",
    "        target_matcher = nlp.get_pipe(\"medspacy_target_matcher\")\n",
    "\n",
    "        target_rules = []\n",
    "        for role in ROLES:\n",
    "            print(\"%s: %s\"%(role, rst[role][task]))\n",
    "            arguments = rst[role][task].split(\"; \")\n",
    "            \n",
    "            for sp in arguments:\n",
    "                target_rules.append(TargetRule(sp, role))\n",
    "\n",
    "        target_matcher.add(target_rules)\n",
    "        doc = nlp(context)\n",
    "        # print(\"\\n\")\n",
    "        visualize_ent(doc)\n",
    "        \n",
    "    \n",
    "    "
   ]
  },
  {
   "cell_type": "code",
   "execution_count": null,
   "id": "fd9f8d56-a42b-4197-aab8-bdff31885017",
   "metadata": {},
   "outputs": [],
   "source": []
  },
  {
   "cell_type": "code",
   "execution_count": null,
   "id": "6993cfe8-ad2f-4350-aa22-c6114481e70d",
   "metadata": {},
   "outputs": [],
   "source": []
  }
 ],
 "metadata": {
  "kernelspec": {
   "display_name": "Python 3 (ipykernel)",
   "language": "python",
   "name": "python3"
  },
  "language_info": {
   "codemirror_mode": {
    "name": "ipython",
    "version": 3
   },
   "file_extension": ".py",
   "mimetype": "text/x-python",
   "name": "python",
   "nbconvert_exporter": "python",
   "pygments_lexer": "ipython3",
   "version": "3.7.11"
  }
 },
 "nbformat": 4,
 "nbformat_minor": 5
}
